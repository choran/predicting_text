{
 "cells": [
  {
   "cell_type": "code",
   "execution_count": null,
   "id": "65100bc0",
   "metadata": {},
   "outputs": [],
   "source": [
    "import pandas as pd\n",
    "import numpy as np"
   ]
  },
  {
   "cell_type": "code",
   "execution_count": null,
   "id": "00e4cd65",
   "metadata": {
    "scrolled": true
   },
   "outputs": [],
   "source": [
    "from sentence_transformers import SentenceTransformer, util\n",
    "\n",
    "model = SentenceTransformer('sentence-transformers/all-MiniLM-L6-v2')"
   ]
  },
  {
   "cell_type": "code",
   "execution_count": null,
   "id": "df761eba",
   "metadata": {},
   "outputs": [],
   "source": [
    "pd.set_option(\"display.max_colwidth\", None)"
   ]
  },
  {
   "cell_type": "code",
   "execution_count": null,
   "id": "b58530cf",
   "metadata": {},
   "outputs": [],
   "source": [
    "test_dataset_df = pd.read_pickle(\"amazon_clean_data.pkl\")"
   ]
  },
  {
   "cell_type": "code",
   "execution_count": null,
   "id": "18bd1910",
   "metadata": {},
   "outputs": [],
   "source": [
    "test_dataset_df.shape"
   ]
  },
  {
   "cell_type": "markdown",
   "id": "9e2e4a8d",
   "metadata": {},
   "source": [
    "#### Predict paraphrases for 10 examples"
   ]
  },
  {
   "cell_type": "code",
   "execution_count": null,
   "id": "f8598f89",
   "metadata": {},
   "outputs": [],
   "source": [
    "sentences = test_dataset_df['question'].sample(n=10).tolist()\n",
    "for i, s in enumerate(sentences, 1):\n",
    "    print(f'{i}: {s}')"
   ]
  },
  {
   "cell_type": "code",
   "execution_count": null,
   "id": "af14fee5",
   "metadata": {},
   "outputs": [],
   "source": [
    "paraphrases = util.paraphrase_mining(model, sentences, top_k=1)"
   ]
  },
  {
   "cell_type": "code",
   "execution_count": null,
   "id": "4b840ead",
   "metadata": {},
   "outputs": [],
   "source": [
    "para_list = []\n",
    "for paraphrase in paraphrases[0:100]:\n",
    "    score, i, j = paraphrase\n",
    "    para_list.append([round(score, 2), sentences[i], sentences[j]])\n",
    "para_df = pd.DataFrame(para_list, columns=['Paraphrase Likelihood', 'Sentence 1', 'Sentence 2'])\n",
    "para_df.index = np.arange(1, len(para_df) + 1)\n",
    "para_df.index.name = 'Result'\n",
    "para_df"
   ]
  },
  {
   "cell_type": "markdown",
   "id": "9c45f10c",
   "metadata": {},
   "source": [
    "#### Predict paraphrases for all examples"
   ]
  },
  {
   "cell_type": "code",
   "execution_count": null,
   "id": "ae28ddb6",
   "metadata": {},
   "outputs": [],
   "source": [
    "all_sentences = test_dataset_df['question'].tolist()"
   ]
  },
  {
   "cell_type": "code",
   "execution_count": null,
   "id": "cc709207",
   "metadata": {},
   "outputs": [],
   "source": [
    "%%time\n",
    "paraphrases = util.paraphrase_mining(model, all_sentences, top_k=1)"
   ]
  },
  {
   "cell_type": "code",
   "execution_count": null,
   "id": "2f5cb9db",
   "metadata": {},
   "outputs": [],
   "source": [
    "para_list = []\n",
    "for paraphrase in paraphrases:\n",
    "    score, i, j = paraphrase\n",
    "    para_list.append([round(score, 2), all_sentences[i], all_sentences[j]])\n",
    "para_df = pd.DataFrame(para_list, columns=['Paraphrase Likelihood', 'Sentence 1', 'Sentence 2'])\n",
    "para_df.index = np.arange(1, len(para_df) + 1)\n",
    "para_df.index.name = 'Result'\n",
    "para_df"
   ]
  },
  {
   "cell_type": "code",
   "execution_count": null,
   "id": "0769f913",
   "metadata": {},
   "outputs": [],
   "source": [
    "sample_prara_df = para_df.query('0.75 <= `Paraphrase Likelihood` <= 0.85')\n",
    "sample_prara_df"
   ]
  },
  {
   "cell_type": "code",
   "execution_count": null,
   "id": "1ea920a9",
   "metadata": {
    "scrolled": true
   },
   "outputs": [],
   "source": [
    "for row in sample_prara_df.sample(n=20).itertuples():\n",
    "    print(row[2])\n",
    "    print(f'------------------ {row[1]}------------------')\n",
    "    print(row[3])\n",
    "    print('='*50)"
   ]
  },
  {
   "cell_type": "markdown",
   "id": "7c7d0d52",
   "metadata": {},
   "source": [
    "#### Predict paraphrases for all examples using top 5 best paraphrased for each example"
   ]
  },
  {
   "cell_type": "code",
   "execution_count": null,
   "id": "7a0ff5b4",
   "metadata": {},
   "outputs": [],
   "source": [
    "all_sentences = test_dataset_df['question'].tolist()"
   ]
  },
  {
   "cell_type": "code",
   "execution_count": null,
   "id": "66ec7be2",
   "metadata": {},
   "outputs": [],
   "source": [
    "%%time\n",
    "paraphrases = util.paraphrase_mining(model, all_sentences, top_k=5)"
   ]
  },
  {
   "cell_type": "code",
   "execution_count": null,
   "id": "a9c2d9bb",
   "metadata": {},
   "outputs": [],
   "source": [
    "para_list = []\n",
    "# For this example lets sort the results via the sentence index\n",
    "# This way we can list all the potential paraphrase examples together \n",
    "# Rather than sorting by score which would make it more difficult to find the same examples\n",
    "for paraphrase in sorted(paraphrases, key=lambda x: x[1], reverse=True):\n",
    "    score, i, j = paraphrase\n",
    "    para_list.append([round(score, 2), all_sentences[i], all_sentences[j]])\n",
    "para_df = pd.DataFrame(para_list, columns=['Paraphrase Likelihood', 'Sentence 1', 'Sentence 2'])\n",
    "para_df.index = np.arange(1, len(para_df) + 1)\n",
    "para_df.index.name = 'Result'\n",
    "para_df"
   ]
  },
  {
   "cell_type": "code",
   "execution_count": null,
   "id": "504b875d",
   "metadata": {
    "scrolled": true
   },
   "outputs": [],
   "source": [
    "for row in para_df.head(n=30).itertuples():\n",
    "    print(row[2])\n",
    "    print(f'------------------ {row[1]}------------------')\n",
    "    print(row[3])\n",
    "    print('='*50)"
   ]
  }
 ],
 "metadata": {
  "kernelspec": {
   "display_name": "conda_intercom_choran_tf2",
   "language": "python",
   "name": "conda_intercom_choran_tf2"
  },
  "language_info": {
   "codemirror_mode": {
    "name": "ipython",
    "version": 3
   },
   "file_extension": ".py",
   "mimetype": "text/x-python",
   "name": "python",
   "nbconvert_exporter": "python",
   "pygments_lexer": "ipython3",
   "version": "3.6.10"
  }
 },
 "nbformat": 4,
 "nbformat_minor": 5
}
