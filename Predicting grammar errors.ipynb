{
 "cells": [
  {
   "cell_type": "code",
   "execution_count": null,
   "id": "7ea18c37",
   "metadata": {},
   "outputs": [],
   "source": [
    "import json\n",
    "import pandas as pd\n",
    "import numpy as np\n",
    "from sklearn.feature_extraction.text import CountVectorizer\n",
    "import re\n",
    "from nltk.stem.snowball import SnowballStemmer\n",
    "\n",
    "from pyspark.ml import Pipeline\n",
    "from pyspark.sql import SparkSession\n",
    "import pyspark.sql.functions as F\n",
    "from sparknlp.annotator import *\n",
    "from sparknlp.base import *\n",
    "import sparknlp\n",
    "from sparknlp.pretrained import PretrainedPipeline\n",
    "\n",
    "spark = sparknlp.start()"
   ]
  },
  {
   "cell_type": "code",
   "execution_count": null,
   "id": "cc47e4bc",
   "metadata": {},
   "outputs": [],
   "source": [
    "test_dataset_df = pd.read_pickle(\"amazon_clean_data.pkl\")"
   ]
  },
  {
   "cell_type": "code",
   "execution_count": null,
   "id": "eabe436c",
   "metadata": {},
   "outputs": [],
   "source": [
    "documentAssembler = DocumentAssembler() \\\n",
    "    .setInputCol(\"text\") \\\n",
    "    .setOutputCol(\"document\") \n",
    "\n",
    "# Can take in document or sentence columns\n",
    "t5 = T5Transformer.pretrained(name='t5_base',lang='en')\\\n",
    "    .setInputCols('document')\\\n",
    "    .setOutputCol(\"T5\")"
   ]
  },
  {
   "cell_type": "code",
   "execution_count": null,
   "id": "4067a9a2",
   "metadata": {},
   "outputs": [],
   "source": [
    "# Set the task on T5\n",
    "t5.setTask('cola sentence:')\n",
    "\n",
    "# Build pipeline with T5\n",
    "pipe_components = [documentAssembler,t5]\n",
    "pipeline = Pipeline().setStages( pipe_components)"
   ]
  },
  {
   "cell_type": "code",
   "execution_count": null,
   "id": "b61983ee",
   "metadata": {
    "scrolled": false
   },
   "outputs": [],
   "source": [
    "# Get some test sentences\n",
    "sentences = test_dataset_df['question'].sample(n=20).tolist()\n",
    "# Lets just use short sentences for now\n",
    "sentences = [[x] for x in sentences if len(x) < 90]\n",
    "df = spark.createDataFrame(sentences).toDF(\"text\")\n",
    "\n",
    "#Predict on text data with T5\n",
    "model = pipeline.fit(df)\n",
    "annotated_df = model.transform(df)\n",
    "annotated_df.select(['text','t5.result']).show(truncate=False)"
   ]
  },
  {
   "cell_type": "markdown",
   "id": "9ee3b32f",
   "metadata": {},
   "source": [
    "### In pandas DF format"
   ]
  },
  {
   "cell_type": "code",
   "execution_count": null,
   "id": "2853c2db",
   "metadata": {
    "scrolled": true
   },
   "outputs": [],
   "source": [
    "annotated_df.select(['text','t5.result']).toPandas()"
   ]
  }
 ],
 "metadata": {
  "kernelspec": {
   "display_name": "conda_intercom_choran_tf2",
   "language": "python",
   "name": "conda_intercom_choran_tf2"
  },
  "language_info": {
   "codemirror_mode": {
    "name": "ipython",
    "version": 3
   },
   "file_extension": ".py",
   "mimetype": "text/x-python",
   "name": "python",
   "nbconvert_exporter": "python",
   "pygments_lexer": "ipython3",
   "version": "3.6.10"
  }
 },
 "nbformat": 4,
 "nbformat_minor": 5
}
