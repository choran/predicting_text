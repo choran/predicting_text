{
 "cells": [
  {
   "cell_type": "code",
   "execution_count": null,
   "id": "dd60cdcc",
   "metadata": {},
   "outputs": [],
   "source": [
    "import pandas as pd\n",
    "import pickle\n",
    "import numpy as np\n",
    "import re"
   ]
  },
  {
   "cell_type": "code",
   "execution_count": null,
   "id": "82f55a04",
   "metadata": {},
   "outputs": [],
   "source": [
    "import matplotlib\n",
    "import matplotlib.pyplot as plt\n",
    "import seaborn as sns\n",
    "from IPython.display import Markdown, display"
   ]
  },
  {
   "cell_type": "code",
   "execution_count": null,
   "id": "1e410b86",
   "metadata": {},
   "outputs": [],
   "source": [
    "from tqdm.autonotebook import tqdm\n",
    "pd.set_option('display.max_colwidth', 300)\n",
    "pd.set_option('display.float_format', '{:,.2f}'.format)\n",
    "tqdm.pandas()"
   ]
  },
  {
   "cell_type": "code",
   "execution_count": null,
   "id": "0c0b34ed",
   "metadata": {},
   "outputs": [],
   "source": [
    "from gensim.parsing import (strip_tags, strip_numeric, \n",
    "                            strip_multiple_whitespaces, \n",
    "                            stem_text, strip_punctuation, \n",
    "                            remove_stopwords, preprocess_string)"
   ]
  },
  {
   "cell_type": "markdown",
   "id": "83ca1f38",
   "metadata": {},
   "source": [
    "### Get the Amazon Dataset\n",
    "You can find the full list of Amazon datasets [here](http://jmcauley.ucsd.edu/data/amazon/qa/). <br>\n",
    "You can download the dataset and unzip it and then follow the steps below"
   ]
  },
  {
   "cell_type": "code",
   "execution_count": null,
   "id": "f1ecc262",
   "metadata": {},
   "outputs": [],
   "source": [
    "def parse(path):\n",
    "  g = open(path, 'rb')\n",
    "  for l in g:\n",
    "    yield eval(l)"
   ]
  },
  {
   "cell_type": "code",
   "execution_count": null,
   "id": "40cfc247",
   "metadata": {},
   "outputs": [],
   "source": [
    "def getDF(path):\n",
    "  i = 0\n",
    "  df = {}\n",
    "  for d in parse(path):\n",
    "    df[i] = d\n",
    "    i += 1\n",
    "  return pd.DataFrame.from_dict(df, orient='index')"
   ]
  },
  {
   "cell_type": "code",
   "execution_count": null,
   "id": "f9ed255c",
   "metadata": {},
   "outputs": [],
   "source": [
    "amazon_df = getDF('qa_Software.json')\n",
    "amazon_df.head()"
   ]
  },
  {
   "cell_type": "markdown",
   "id": "c6081128",
   "metadata": {},
   "source": [
    "### Create a simple preprocessing pipeline"
   ]
  },
  {
   "cell_type": "code",
   "execution_count": null,
   "id": "bb7a4906",
   "metadata": {},
   "outputs": [],
   "source": [
    "transform_to_lower = lambda s: s.lower()\n",
    "remove_punct = lambda s: re.sub(r'[:,;?]', '', s)\n",
    "\n",
    "CLEAN_FILTERS = [remove_punct,\n",
    "                 strip_multiple_whitespaces, \n",
    "                 transform_to_lower,\n",
    "                 remove_stopwords]\n",
    "\n",
    "def cleaning_pipe(document):\n",
    "    processed_words = preprocess_string(document, CLEAN_FILTERS)    \n",
    "    return ' '.join(processed_words)"
   ]
  },
  {
   "cell_type": "code",
   "execution_count": null,
   "id": "63c96ccf",
   "metadata": {
    "scrolled": true
   },
   "outputs": [],
   "source": [
    "amazon_df['question_cleaned'] = amazon_df['question'].progress_apply(cleaning_pipe)"
   ]
  },
  {
   "cell_type": "markdown",
   "id": "eb618db4",
   "metadata": {},
   "source": [
    "### View the sentence length distribution"
   ]
  },
  {
   "cell_type": "code",
   "execution_count": null,
   "id": "0f579602",
   "metadata": {},
   "outputs": [],
   "source": [
    "get_len_funct = lambda x: len(x.split())\n",
    "get_len = np.vectorize(get_len_funct)\n",
    "amazon_df['question_len'] = get_len(amazon_df['question'])\n",
    "sns.displot(amazon_df['question_len'])\n",
    "plt.title('Question Length');"
   ]
  },
  {
   "cell_type": "markdown",
   "id": "eec2119c",
   "metadata": {},
   "source": [
    "### Store the DF \n",
    "Store the data locally so we can use it in the other notebooks"
   ]
  },
  {
   "cell_type": "code",
   "execution_count": null,
   "id": "4664ed59",
   "metadata": {},
   "outputs": [],
   "source": [
    "amazon_df.to_pickle(\"amazon_clean_data.pkl\")"
   ]
  }
 ],
 "metadata": {
  "kernelspec": {
   "display_name": "conda_intercom_choran_tf2",
   "language": "python",
   "name": "conda_intercom_choran_tf2"
  },
  "language_info": {
   "codemirror_mode": {
    "name": "ipython",
    "version": 3
   },
   "file_extension": ".py",
   "mimetype": "text/x-python",
   "name": "python",
   "nbconvert_exporter": "python",
   "pygments_lexer": "ipython3",
   "version": "3.6.10"
  }
 },
 "nbformat": 4,
 "nbformat_minor": 5
}
