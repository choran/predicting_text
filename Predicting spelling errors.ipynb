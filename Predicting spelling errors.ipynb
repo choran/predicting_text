{
 "cells": [
  {
   "cell_type": "markdown",
   "id": "5d827233",
   "metadata": {},
   "source": [
    "### Libraries\n",
    "You may need to install some of the libraries noted here if you run into any issues trying to run the code in this notebook"
   ]
  },
  {
   "cell_type": "raw",
   "id": "4db26a05",
   "metadata": {},
   "source": [
    "!pip install contextualSpellCheck\n",
    "!pip install pyspellchecker\n",
    "!pip install spacy==3.0.0\n",
    "!python -m spacy download en_core_web_sm\n",
    "!pip install neuspell\n",
    "!git clone https://github.com/neuspell/neuspell\n",
    "!pip install -e neuspell/."
   ]
  },
  {
   "cell_type": "code",
   "execution_count": null,
   "id": "cdbacdd9",
   "metadata": {},
   "outputs": [],
   "source": [
    "import pandas as pd"
   ]
  },
  {
   "cell_type": "code",
   "execution_count": null,
   "id": "7c1ccba7",
   "metadata": {},
   "outputs": [],
   "source": [
    "import neuspell\n",
    "from neuspell import available_checkers, BertChecker"
   ]
  },
  {
   "cell_type": "code",
   "execution_count": null,
   "id": "74c68a1d",
   "metadata": {},
   "outputs": [],
   "source": [
    "import spacy\n",
    "import contextualSpellCheck"
   ]
  },
  {
   "cell_type": "code",
   "execution_count": null,
   "id": "bbc71c19",
   "metadata": {},
   "outputs": [],
   "source": [
    "test_dataset_df = pd.read_pickle(\"amazon_clean_data.pkl\")\n",
    "test_dataset_df.head()"
   ]
  },
  {
   "cell_type": "code",
   "execution_count": null,
   "id": "1fc61406",
   "metadata": {
    "scrolled": true
   },
   "outputs": [],
   "source": [
    "nlp = spacy.load('en_core_web_sm')\n",
    "contextualSpellCheck.add_to_pipe(nlp)"
   ]
  },
  {
   "cell_type": "code",
   "execution_count": null,
   "id": "94b8a9fb",
   "metadata": {},
   "outputs": [],
   "source": [
    "print(f\"available checkers: {neuspell.available_checkers()}\")\n",
    "checker = BertChecker()\n",
    "checker.from_pretrained()"
   ]
  },
  {
   "cell_type": "code",
   "execution_count": null,
   "id": "879a3fce",
   "metadata": {},
   "outputs": [],
   "source": [
    "original_queries = test_dataset_df['question'].sample(n=20).values"
   ]
  },
  {
   "cell_type": "code",
   "execution_count": null,
   "id": "9fbe9474",
   "metadata": {},
   "outputs": [],
   "source": [
    "# Test the spaCy spell check with a single example\n",
    "doc = nlp(u\"Does this work well for Canada?\")\n",
    "print(doc._.outcome_spellCheck)"
   ]
  },
  {
   "cell_type": "code",
   "execution_count": null,
   "id": "16687a2f",
   "metadata": {},
   "outputs": [],
   "source": [
    "for q in original_queries:\n",
    "    doc = nlp(q)\n",
    "    spacy_misspell = doc._.performed_spellCheck\n",
    "    print(f'='*(len(q)))\n",
    "    print(q)\n",
    "    print(f'='*(len(q)))\n",
    "    print(f'-------- spaCy -------- ')\n",
    "    if spacy_misspell:\n",
    "        print(f'spaCy> spelling error detected')\n",
    "        print(doc._.suggestions_spellCheck)\n",
    "        print(doc._.outcome_spellCheck)\n",
    "        for i in doc._.score_spellCheck:\n",
    "            print(i)\n",
    "            for s in doc._.score_spellCheck[i]:\n",
    "                print(s)\n",
    "    else:\n",
    "        print(f'spaCy> No spelling error detected')\n",
    "    neuspell_res = checker.correct(q)\n",
    "    print(f'-------- NeuSpell -------- ')\n",
    "    print(neuspell_res)"
   ]
  }
 ],
 "metadata": {
  "kernelspec": {
   "display_name": "conda_intercom_choran_tf2",
   "language": "python",
   "name": "conda_intercom_choran_tf2"
  },
  "language_info": {
   "codemirror_mode": {
    "name": "ipython",
    "version": 3
   },
   "file_extension": ".py",
   "mimetype": "text/x-python",
   "name": "python",
   "nbconvert_exporter": "python",
   "pygments_lexer": "ipython3",
   "version": "3.6.10"
  }
 },
 "nbformat": 4,
 "nbformat_minor": 5
}
